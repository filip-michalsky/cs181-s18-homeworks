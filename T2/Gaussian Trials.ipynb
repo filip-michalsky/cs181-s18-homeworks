{
 "cells": [
  {
   "cell_type": "code",
   "execution_count": 97,
   "metadata": {},
   "outputs": [],
   "source": [
    "# Gaussian trials"
   ]
  },
  {
   "cell_type": "code",
   "execution_count": 322,
   "metadata": {},
   "outputs": [],
   "source": [
    "from scipy.stats import multivariate_normal\n",
    "import numpy as np\n",
    "import matplotlib.pyplot as plt\n",
    "import matplotlib.colors as c\n",
    "\n",
    "# Please implement the fit and predict methods of this class. You can add additional private methods\n",
    "# by beginning them with two underscores. It may look like the __dummyPrivateMethod below.\n",
    "# You can feel free to change any of the class attributes, as long as you do not change any of \n",
    "# the given function headers (they must take and return the same arguments), and as long as you\n",
    "# don't change anything in the .visualize() method. \n",
    "class GaussianGenerativeModel:\n",
    "    def __init__(self, isSharedCovariance=False):\n",
    "        self.isSharedCovariance = isSharedCovariance\n",
    "        self.mu_1 = None\n",
    "        self.mu_2 = None\n",
    "        self.mu_3 = None\n",
    "        self.shared_cov = None\n",
    "        self.cov_1 = None\n",
    "        self.cov_2 = None\n",
    "        self.cov_3 = None\n",
    "        \n",
    "    # Just to show how to make 'private' methods\n",
    "    def __dummyPrivateMethod(self, input):\n",
    "        return None\n",
    "\n",
    "    # TODO: Implement this method!\n",
    "    def fit(self, X, Y):\n",
    "        \n",
    "        self.X = X\n",
    "        self.Y = Y\n",
    "        \n",
    "        labe1_1 = np.where(self.Y==1)\n",
    "        labe1_2 = np.where(self.Y==2)\n",
    "        labe1_3 = np.where(self.Y==3)\n",
    "        #y_1,y_2,y_3 = self.Y.iloc[label_1],self.Y.iloc[label_2],self.Y.iloc[label_3]\n",
    "        x_1,x_2,x_3 = self.X.iloc[label_1],self.X.iloc[label_2],self.X.iloc[label_3]\n",
    "        \n",
    "        self.mu_1 = np.mean(x_1)\n",
    "        self.mu_2 = np.mean(x_2)\n",
    "        self.mu_3 = np.mean(x_3)\n",
    "        \n",
    "        if self.isSharedCovariance:\n",
    "            # Use weighted avg of separate covariances\n",
    "            w_1 = len(labe1_1)/X.shape[0]\n",
    "            w_2 = len(labe1_2)/X.shape[0]\n",
    "            w_3 = len(labe1_3)/X.shape[0]\n",
    "            \n",
    "            self.shared_cov = w_1*np.cov(x_1.T)+w_2*np.cov(x_2.T)+w_3*np.cov(x_3.T)\n",
    "        else:\n",
    "            self.cov_1 = np.cov(x_1.T)\n",
    "            self.cov_2 = np.cov(x_2.T)\n",
    "            self.cov_3 = np.cov(x_3.T)\n",
    "            \n",
    "    def predict(self, X_to_predict):\n",
    "        \n",
    "        p = np.zeros([X_to_predict.shape[0],3])\n",
    "        \n",
    "        if self.isSharedCovariance:\n",
    "\n",
    "            \n",
    "            p[:,0]= multivariate_normal.pdf(X_to_predict,mean=self.mu_1,cov=self.shared_cov)\n",
    "            p[:,1]= multivariate_normal.pdf(X_to_predict,mean=self.mu_2,cov=self.shared_cov)\n",
    "            p[:,2]= multivariate_normal.pdf(X_to_predict,mean=self.mu_3,cov=self.shared_cov)\n",
    "            \n",
    "        else:\n",
    "            p[:,0]= multivariate_normal.pdf(X_to_predict,mean=self.mu_1,cov=self.cov_1)\n",
    "            p[:,1]= multivariate_normal.pdf(X_to_predict,mean=self.mu_2,cov=self.cov_2)\n",
    "            p[:,2]= multivariate_normal.pdf(X_to_predict,mean=self.mu_3,cov=self.cov_3)\n",
    "            \n",
    "        y_pred = np.zeros([X_to_predict.shape[0],1])\n",
    "        \n",
    "        for idx,row in enumerate(p):\n",
    "            y_pred[idx] = np.argmax(row)+1\n",
    "            \n",
    "        # return the argmax (the indices will correspond to class assignment here)\n",
    "        return y_pred.T[0]\n",
    "     \n",
    "\n",
    "    # Do not modify this method!\n",
    "    def visualize(self, output_file, width=3, show_charts=False):\n",
    "        X = self.X.values\n",
    "        # Create a grid of points\n",
    "        x_min, x_max = min(X[:, 0] - width), max(X[:, 0] + width)\n",
    "        y_min, y_max = min(X[:, 1] - width), max(X[:, 1] + width)\n",
    "        xx,yy = np.meshgrid(np.arange(x_min, x_max, .005), np.arange(y_min,\n",
    "            y_max, .005))\n",
    "\n",
    "        # Flatten the grid so the values match spec for self.predict\n",
    "        xx_flat = xx.flatten()\n",
    "        yy_flat = yy.flatten()\n",
    "        X_topredict = np.vstack((xx_flat,yy_flat)).T\n",
    "\n",
    "        # Get the class predictions\n",
    "        Y_hat = self.predict(X_topredict)\n",
    "        Y_hat = Y_hat.reshape((xx.shape[0], xx.shape[1]))\n",
    "\n",
    "        cMap = c.ListedColormap(['r','b','g'])\n",
    "\n",
    "        # Visualize them.\n",
    "        plt.figure()\n",
    "        plt.pcolormesh(xx,yy,Y_hat, cmap=cMap)\n",
    "        plt.scatter(X[:, 0], X[:, 1], c=self.Y, cmap=cMap,edgecolors='black')\n",
    "        plt.savefig(output_file)\n",
    "        if show_charts:\n",
    "            plt.show()"
   ]
  },
  {
   "cell_type": "code",
   "execution_count": 323,
   "metadata": {},
   "outputs": [],
   "source": [
    "import pandas as pd\n",
    "data = pd.read_csv(\"fruit.csv\")\n",
    "x = data.loc[:,'width':'height']\n",
    "#y = pd.get_dummies(data['fruit'])\n",
    "y = data['fruit'].values"
   ]
  },
  {
   "cell_type": "code",
   "execution_count": 329,
   "metadata": {},
   "outputs": [],
   "source": [
    "testG = GaussianGenerativeModel(isSharedCovariance=False)\n",
    "testG.fit(x,y)\n",
    "\n",
    "testG_sharedCov = GaussianGenerativeModel(isSharedCovariance=True)\n",
    "testG_sharedCov.fit(x,y)"
   ]
  },
  {
   "cell_type": "code",
   "execution_count": 325,
   "metadata": {},
   "outputs": [
    {
     "data": {
      "text/plain": [
       "array([1., 1., 1., 2., 1., 2., 2., 2., 2., 1., 1., 1., 1., 1., 1., 1., 1.,\n",
       "       1., 1., 2., 2., 2., 2., 2., 1., 1., 1., 3., 2., 2., 2., 1., 2., 2.,\n",
       "       1., 2., 2., 2., 2., 2., 2., 2., 2., 3., 3., 3., 3., 3., 3., 3., 3.,\n",
       "       3., 3., 3., 3., 3., 3., 3., 3.])"
      ]
     },
     "execution_count": 325,
     "metadata": {},
     "output_type": "execute_result"
    }
   ],
   "source": [
    "testG.predict(x)"
   ]
  },
  {
   "cell_type": "code",
   "execution_count": 330,
   "metadata": {},
   "outputs": [
    {
     "data": {
      "text/plain": [
       "array([1., 1., 1., 2., 1., 2., 2., 2., 2., 1., 1., 1., 1., 1., 1., 1., 1.,\n",
       "       1., 1., 2., 2., 2., 2., 2., 1., 1., 1., 3., 2., 2., 2., 1., 2., 2.,\n",
       "       1., 2., 2., 2., 2., 2., 2., 2., 2., 3., 3., 3., 3., 3., 3., 3., 3.,\n",
       "       3., 3., 3., 3., 3., 3., 3., 3.])"
      ]
     },
     "execution_count": 330,
     "metadata": {},
     "output_type": "execute_result"
    }
   ],
   "source": [
    "testG_sharedCov.predict(x)"
   ]
  },
  {
   "cell_type": "code",
   "execution_count": 332,
   "metadata": {},
   "outputs": [
    {
     "data": {
      "image/png": "[encoded data removed]",
      "text/plain": [
       "<matplotlib.figure.Figure at 0x11ccbd470>"
      ]
     },
     "metadata": {},
     "output_type": "display_data"
    }
   ],
   "source": [
    "testG.visualize(\"Gaussian_viz_indi_cov.png\")"
   ]
  },
  {
   "cell_type": "code",
   "execution_count": 333,
   "metadata": {},
   "outputs": [
    {
     "data": {
      "image/png": "[encoded data removed]",
      "text/plain": [
       "<matplotlib.figure.Figure at 0x11d1eaa90>"
      ]
     },
     "metadata": {},
     "output_type": "display_data"
    }
   ],
   "source": [
    "testG_sharedCov.visualize(\"Gaussian_viz_shared_cov.png\")"
   ]
  },
  {
   "cell_type": "code",
   "execution_count": 334,
   "metadata": {},
   "outputs": [
    {
     "name": "stdout",
     "output_type": "stream",
     "text": [
      "Confusion matrix Individual Covariance\n",
      "[[18  1  0]\n",
      " [11 13  0]\n",
      " [ 0  0 16]]\n"
     ]
    }
   ],
   "source": [
    "from sklearn.metrics import confusion_matrix\n",
    "\n",
    "y_pred = testG.predict(x)\n",
    "\n",
    "#Evaluate Confusion Matrix of the Logit Regression\n",
    "print(\"Confusion matrix Individual Covariance\")\n",
    "print(confusion_matrix(y,y_pred))"
   ]
  },
  {
   "cell_type": "code",
   "execution_count": 336,
   "metadata": {},
   "outputs": [
    {
     "name": "stdout",
     "output_type": "stream",
     "text": [
      "Confusion matrix Shared Covariance\n",
      "[[14  5  0]\n",
      " [ 5 18  1]\n",
      " [ 0  0 16]]\n"
     ]
    }
   ],
   "source": [
    "from sklearn.metrics import confusion_matrix\n",
    "\n",
    "y_pred = testG_sharedCov.predict(x)\n",
    "\n",
    "#Evaluate Confusion Matrix of the Logit Regression\n",
    "print(\"Confusion matrix Shared Covariance\")\n",
    "print(confusion_matrix(y,y_pred))"
   ]
  },
  {
   "cell_type": "code",
   "execution_count": null,
   "metadata": {},
   "outputs": [],
   "source": [
    "# We can see that the shared covariance fits slightly better, \n",
    "# with 10 rather than 12 missclassifications"
   ]
  },
  {
   "cell_type": "code",
   "execution_count": 337,
   "metadata": {},
   "outputs": [
    {
     "name": "stdout",
     "output_type": "stream",
     "text": [
      "prediction for fruit with width 4cm and height 11 cm is 2.0\n",
      "prediction for fruit with width 8.5cm and height 7 cm is 1.0\n"
     ]
    }
   ],
   "source": [
    "x_test = np.array([[4,11],[8.5,7]])\n",
    "y_pred = testG.predict(x_test)\n",
    "print(\"Gaussian Regression individual covariance\")\n",
    "print(\"prediction for fruit with width 4cm and height 11 cm is {}\".format(y_pred[0]))\n",
    "print(\"prediction for fruit with width 8.5cm and height 7 cm is {}\".format(y_pred[1]))"
   ]
  },
  {
   "cell_type": "code",
   "execution_count": 338,
   "metadata": {},
   "outputs": [
    {
     "name": "stdout",
     "output_type": "stream",
     "text": [
      "Gaussian Regression shared covariance\n",
      "prediction for fruit with width 4cm and height 11 cm is 1.0\n",
      "prediction for fruit with width 8.5cm and height 7 cm is 1.0\n"
     ]
    }
   ],
   "source": [
    "y_pred = testG_sharedCov.predict(x_test)\n",
    "print(\"Gaussian Regression shared covariance\")\n",
    "print(\"prediction for fruit with width 4cm and height 11 cm is {}\".format(y_pred[0]))\n",
    "print(\"prediction for fruit with width 8.5cm and height 7 cm is {}\".format(y_pred[1]))"
   ]
  },
  {
   "cell_type": "code",
   "execution_count": null,
   "metadata": {},
   "outputs": [],
   "source": []
  }
 ],
 "metadata": {
  "kernelspec": {
   "display_name": "Python 3",
   "language": "python",
   "name": "python3"
  },
  "language_info": {
   "codemirror_mode": {
    "name": "ipython",
    "version": 3
   },
   "file_extension": ".py",
   "mimetype": "text/x-python",
   "name": "python",
   "nbconvert_exporter": "python",
   "pygments_lexer": "ipython3",
   "version": "3.6.4"
  }
 },
 "nbformat": 4,
 "nbformat_minor": 2
}
