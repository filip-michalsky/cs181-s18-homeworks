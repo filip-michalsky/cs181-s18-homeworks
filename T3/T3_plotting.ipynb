{
 "cells": [
  {
   "cell_type": "code",
   "execution_count": 1,
   "metadata": {},
   "outputs": [],
   "source": [
    "import numpy as np\n",
    "import matplotlib.pyplot as plt\n",
    "%matplotlib inline"
   ]
  },
  {
   "cell_type": "code",
   "execution_count": 29,
   "metadata": {},
   "outputs": [
    {
     "data": {
      "image/png": "[encoded data removed]",
      "text/plain": [
       "<Figure size 432x288 with 1 Axes>"
      ]
     },
     "metadata": {},
     "output_type": "display_data"
    }
   ],
   "source": [
    "points = [(-3,9),(-2,4),(-1,1),(0,0),(1,1),(2,4),(3,9)]\n",
    "\n",
    "plt.figure()\n",
    "\n",
    "for point in points:\n",
    "    x,y = point\n",
    "    plt.scatter(x,y,color='red' if y<2.5 else 'blue',marker='+' if y>2.5 else '.')\n",
    "plt.plot(np.linspace(-3.5,3.5,50),[2.5 for i in range(50)],color = 'magenta',label='Decision Boundary')\n",
    "plt.xlim(-3.5,3.5);\n"
   ]
  },
  {
   "cell_type": "code",
   "execution_count": null,
   "metadata": {},
   "outputs": [],
   "source": []
  }
 ],
 "metadata": {
  "kernelspec": {
   "display_name": "Python 3",
   "language": "python",
   "name": "python3"
  },
  "language_info": {
   "codemirror_mode": {
    "name": "ipython",
    "version": 3
   },
   "file_extension": ".py",
   "mimetype": "text/x-python",
   "name": "python",
   "nbconvert_exporter": "python",
   "pygments_lexer": "ipython3",
   "version": "3.6.4"
  }
 },
 "nbformat": 4,
 "nbformat_minor": 2
}
