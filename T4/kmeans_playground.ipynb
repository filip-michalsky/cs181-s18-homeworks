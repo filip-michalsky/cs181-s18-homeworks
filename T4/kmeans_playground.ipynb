{
 "cells": [
  {
   "cell_type": "markdown",
   "metadata": {},
   "source": [
    "# K-Means Clustering\n",
    "\n",
    "Playground to prepare code placed in problem3.py."
   ]
  },
  {
   "cell_type": "code",
   "execution_count": 118,
   "metadata": {},
   "outputs": [],
   "source": [
    "import matplotlib.pyplot as plt\n",
    "from numpy import ndarray\n",
    "import numpy as np\n",
    "import pandas as pd\n",
    "import sklearn.cluster as cluster\n",
    "import sys\n",
    "from tqdm import tqdm\n",
    "import math"
   ]
  },
  {
   "cell_type": "code",
   "execution_count": 184,
   "metadata": {},
   "outputs": [],
   "source": [
    "class KMeans(object):\n",
    "    \n",
    "    # K-Means clustering implementation\n",
    "\n",
    "    def __init__ (self, K, rand_seed=0,\n",
    "                  max_iter=80, threshold=1e-4):\n",
    "        \n",
    "        self.K = K\n",
    "        self.centroids = None\n",
    "        self.clusters = None\n",
    "        self.distortion = None\n",
    "        np.random.seed(rand_seed)\n",
    "        self.max_iter = max_iter\n",
    "        self.X = None\n",
    "        self.thresh = threshold\n",
    "        self.prev_centroids = None\n",
    "        \n",
    "    def fit (self, X):\n",
    "        self.X = X\n",
    "        # initialize clusters as zeros of length of shape \n",
    "        self.clusters = np.zeros(X.shape[0], dtype=np.uint8)\n",
    "        \n",
    "        # initialize  K centroids randomly\n",
    "        select_idx = np.random.choice(list(range(X.shape[0])), size=self.K, replace=False)\n",
    "        self.centroids = X[select_idx, :]\n",
    "        self.distortion = []  # cast to ndarray when finished\n",
    "        \n",
    "        for j in tqdm(range(self.max_iter)):\n",
    "            \n",
    "            # Assign each observation to closest cluster.\n",
    "            for i, x_i in enumerate(X):\n",
    "                distances = self._get_dist_from_centroids(x_i)\n",
    "                # get the index of the cluster with the minimal euclidean distance\n",
    "                # of the centroid to the point\n",
    "                self.clusters[i] = np.argmin(distances)\n",
    "                \n",
    "                \n",
    "            # append the amount of error after each iteration\n",
    "            self.distortion.append(self._clusters_error(X))\n",
    "            \n",
    "            # now, after looping through all the points, update cluster assignments\n",
    "            self._new_centroids(X)\n",
    "            \n",
    "            \n",
    "            \n",
    "                \n",
    "            update_val = self.centroids - self.prev_centroids\n",
    "            if np.linalg.norm(update_val)**2 < self.thresh:\n",
    "                print('K-Means converged after {} iterations.'.format(j))\n",
    "                self.distortion = np.array(self.distortion)\n",
    "                return\n",
    "            #sys.stdout.flush()\n",
    "        \n",
    "        if np.linalg.norm(center_shift)**2 > self.thresh:\n",
    "             print('The KMeans algorithm has not converged after {} iterations!'.format(self.max_iter))\n",
    "        self.distortion = np.array(self.distortion)\n",
    "\n",
    "    \n",
    "    def _get_dist_from_centroids(self, x_i):\n",
    "        # calculate a vector of distances for a data point x_i from each centroid\n",
    "        \n",
    "        distances = []\n",
    "        \n",
    "        for c in self.centroids:\n",
    "            distances.append(np.linalg.norm(x_i-c))\n",
    "        return distances\n",
    "\n",
    "    def _new_centroids (self, X):\n",
    "        # Update centroids for the average feature vector belonging to each clusters\n",
    "        self.prev_centroids = self.centroids.copy()\n",
    "\n",
    "        for k in range(self.K):\n",
    "            # Get the mean vector over points in each cluster.\n",
    "            cluster_data = [X[i] for i in range(X.shape[0]) if self.clusters[i]==k]\n",
    "            self.centroids[k] = np.mean(cluster_data, axis=0)\n",
    "        \n",
    "    def _clusters_error (self, X):\n",
    "        # Calculates the distortion which is \n",
    "        # equivalent to the within-cluster sum-of-squared-errors (SSE) \n",
    "        #for all points from the centroids for all clusters.\n",
    "        \n",
    "        err = 0\n",
    "        for i, x_i in enumerate(X):\n",
    "            cluster = self.clusters[i]\n",
    "            centroid = self.centroids[cluster]\n",
    "            err += np.linalg.norm(x_i-centroid) ** 2\n",
    "        return err\n",
    "    \n",
    "    def get_distortion(self):\n",
    "        return self.distortion[-1]\n",
    "\n",
    "    def get_mean_images (self):\n",
    "        return self.centroids\n",
    "\n",
    "    \n",
    "    def create_image_from_array (img_array, show_img=False):\n",
    "\n",
    "        f = plt.figure()\n",
    "        plt.imshow(img_array, cmap='Greys_r')\n",
    "        plt.show()\n",
    "        return\n",
    "    \n",
    "    def get_representative_images (self, J,as_dict=False):\n",
    "        \n",
    "        # get couple 'best' representative images\n",
    "        # meaning the first J closest in distance to the centroid image\n",
    "        \n",
    "        # Credit goes to Nate Stein for helping me a lot with the plotting\n",
    "        \n",
    "        result = {}\n",
    "        \n",
    "        # iterate through clusters\n",
    "        for k in range(self.K):\n",
    "            cluster_data = self.X[np.where(self.clusters == k)]\n",
    "            # Check whether you have some empty clusters:\n",
    "            if len(cluster_data) == 0:\n",
    "                result[k] = None\n",
    "                continue\n",
    "                \n",
    "            # Get distance for each point from the centroid.\n",
    "            distances = np.zeros(cluster_data.shape[0], dtype=float)\n",
    "            for i, x_i in enumerate(cluster_data):\n",
    "                distances[i] = np.linalg.norm(self.centroids[k]- x_i)\n",
    "                \n",
    "            # Get points with smallest distance to centroid using argsort \n",
    "            # which returns indices corresponding as if the array was sorted.\n",
    "            smallest_idx = distances.argsort()[:J]\n",
    "            \n",
    "            result[k] = self.X[smallest_idx]\n",
    "            \n",
    "        if as_dict:\n",
    "            return result\n",
    "\n",
    "        result_list = []\n",
    "        for k in range(self.K):\n",
    "            for img in result[k]:\n",
    "                result_list.append(img)\n",
    "        return result_list\n",
    "    \n",
    "\n",
    "\n",
    "\n",
    "    def get_plots(self, img_arrays, ncols=3, show_img=False,\n",
    "                   save_path=None, fig_title=None, plt_titles=None):\n",
    "        \"\"\"Creates multiple subplots by plotting `ncols` plots per row\n",
    "        and increasing the number of rows to required number.\n",
    "        \"\"\"\n",
    "        INCHES_PER_ROW, INCHES_PER_COL = 2, 2\n",
    "        \n",
    "        rows = math.floor(len(img_arrays)/ncols)\n",
    "        if len(img_arrays)%ncols!=0:\n",
    "            rows= min_rows + 1\n",
    "            \n",
    "        fig_width = ncols*INCHES_PER_COL\n",
    "        fig_height = rows*INCHES_PER_ROW\n",
    "        \n",
    "        \n",
    "        f, ax = plt.subplots(rows, ncols, figsize=(fig_width, fig_height),\n",
    "                             sharex=True, sharey=True)\n",
    "\n",
    "        # Indices to plot in correct axis.\n",
    "        row = 0\n",
    "        col = 0\n",
    "\n",
    "        if not plt_titles:\n",
    "            plt_titles = [None]*len(img_arrays)\n",
    "\n",
    "        for i, img in enumerate(img_arrays):\n",
    "            ax[row, col].imshow(img_arrays[i], cmap='Greys_r')\n",
    "            if plt_titles[i]:\n",
    "                ax[row, col].set_title(plt_titles[i])\n",
    "\n",
    "            # Increment axis index.\n",
    "            if ((col + 1)%ncols)==0:\n",
    "                # Move to next row since we're at last column.\n",
    "                col = 0\n",
    "                row += 1\n",
    "            else:\n",
    "                col += 1\n",
    "\n",
    "        if fig_title:\n",
    "            f.suptitle(fig_title)\n",
    "        if save_path:\n",
    "            plt.savefig(save_path, bbox_inches='tight')\n",
    "        if show_img:\n",
    "            plt.show()\n",
    "        else:\n",
    "            plt.close(f)\n",
    "            "
   ]
  },
  {
   "cell_type": "code",
   "execution_count": 185,
   "metadata": {},
   "outputs": [
    {
     "name": "stdout",
     "output_type": "stream",
     "text": [
      "(6000, 28, 28)\n",
      "(6000, 784)\n"
     ]
    }
   ],
   "source": [
    "# Load pics as 2D array.\n",
    "# Reshape each data point to 1D vector.\n",
    "images = np.load(\"images.npy\", allow_pickle=False)\n",
    "print(images.shape)\n",
    "images = images.reshape((images.shape[0], images.shape[1] * images.shape[2])) \n",
    "print(images.shape)"
   ]
  },
  {
   "cell_type": "code",
   "execution_count": 186,
   "metadata": {},
   "outputs": [
    {
     "name": "stderr",
     "output_type": "stream",
     "text": [
      " 28%|██▊       | 22/80 [00:10<00:27,  2.13it/s]"
     ]
    },
    {
     "name": "stdout",
     "output_type": "stream",
     "text": [
      "K-Means converged after 22 iterations.\n"
     ]
    },
    {
     "name": "stderr",
     "output_type": "stream",
     "text": [
      "\n",
      "  0%|          | 0/80 [00:00<?, ?it/s]\u001b[A\n",
      "  1%|▏         | 1/80 [00:00<00:41,  1.91it/s]\u001b[A\n",
      "  2%|▎         | 2/80 [00:01<00:40,  1.94it/s]\u001b[A\n",
      "  4%|▍         | 3/80 [00:01<00:38,  1.97it/s]\u001b[A\n",
      "  5%|▌         | 4/80 [00:02<00:38,  1.99it/s]\u001b[A\n",
      "  6%|▋         | 5/80 [00:02<00:38,  1.94it/s]\u001b[A\n",
      "  8%|▊         | 6/80 [00:03<00:39,  1.86it/s]\u001b[A\n",
      "  9%|▉         | 7/80 [00:03<00:39,  1.87it/s]\u001b[A\n",
      " 10%|█         | 8/80 [00:04<00:38,  1.89it/s]\u001b[A\n",
      " 11%|█▏        | 9/80 [00:04<00:37,  1.89it/s]\u001b[A\n",
      " 12%|█▎        | 10/80 [00:05<00:36,  1.90it/s]\u001b[A\n",
      " 14%|█▍        | 11/80 [00:05<00:35,  1.92it/s]\u001b[A\n",
      " 15%|█▌        | 12/80 [00:06<00:35,  1.93it/s]\u001b[A\n",
      " 16%|█▋        | 13/80 [00:06<00:34,  1.95it/s]\u001b[A\n",
      " 18%|█▊        | 14/80 [00:07<00:34,  1.93it/s]\u001b[A\n",
      "Exception in thread Thread-67:\n",
      "Traceback (most recent call last):\n",
      "  File \"/Users/filipmichalsky/anaconda/lib/python3.6/threading.py\", line 916, in _bootstrap_inner\n",
      "    self.run()\n",
      "  File \"/Users/filipmichalsky/anaconda/lib/python3.6/site-packages/tqdm/_tqdm.py\", line 144, in run\n",
      "    for instance in self.tqdm_cls._instances:\n",
      "  File \"/Users/filipmichalsky/anaconda/lib/python3.6/_weakrefset.py\", line 60, in __iter__\n",
      "    for itemref in self.data:\n",
      "RuntimeError: Set changed size during iteration\n",
      "\n",
      " 31%|███▏      | 25/80 [00:13<00:29,  1.89it/s]"
     ]
    },
    {
     "name": "stdout",
     "output_type": "stream",
     "text": [
      "K-Means converged after 25 iterations.\n"
     ]
    },
    {
     "name": "stderr",
     "output_type": "stream",
     "text": [
      "\n",
      " 40%|████      | 32/80 [00:22<00:34,  1.40it/s]"
     ]
    },
    {
     "name": "stdout",
     "output_type": "stream",
     "text": [
      "K-Means converged after 32 iterations.\n"
     ]
    },
    {
     "name": "stderr",
     "output_type": "stream",
     "text": [
      "\n",
      "  0%|          | 0/80 [00:00<?, ?it/s]\u001b[A\n",
      "  1%|▏         | 1/80 [00:00<00:59,  1.33it/s]\u001b[A\n",
      "  2%|▎         | 2/80 [00:01<01:00,  1.30it/s]\u001b[A\n",
      "  4%|▍         | 3/80 [00:02<00:58,  1.31it/s]\u001b[A\n",
      "  5%|▌         | 4/80 [00:02<00:56,  1.34it/s]\u001b[A\n",
      "Exception in thread Thread-68:\n",
      "Traceback (most recent call last):\n",
      "  File \"/Users/filipmichalsky/anaconda/lib/python3.6/threading.py\", line 916, in _bootstrap_inner\n",
      "    self.run()\n",
      "  File \"/Users/filipmichalsky/anaconda/lib/python3.6/site-packages/tqdm/_tqdm.py\", line 144, in run\n",
      "    for instance in self.tqdm_cls._instances:\n",
      "  File \"/Users/filipmichalsky/anaconda/lib/python3.6/_weakrefset.py\", line 60, in __iter__\n",
      "    for itemref in self.data:\n",
      "RuntimeError: Set changed size during iteration\n",
      "\n",
      " 68%|██████▊   | 54/80 [00:38<00:18,  1.40it/s]"
     ]
    },
    {
     "name": "stdout",
     "output_type": "stream",
     "text": [
      "K-Means converged after 54 iterations.\n"
     ]
    },
    {
     "name": "stderr",
     "output_type": "stream",
     "text": [
      "\n",
      " 34%|███▍      | 27/80 [00:22<00:44,  1.19it/s]"
     ]
    },
    {
     "name": "stdout",
     "output_type": "stream",
     "text": [
      "K-Means converged after 27 iterations.\n"
     ]
    },
    {
     "name": "stderr",
     "output_type": "stream",
     "text": [
      "\n",
      "  0%|          | 0/80 [00:00<?, ?it/s]\u001b[A\n",
      "  1%|▏         | 1/80 [00:00<01:15,  1.05it/s]\u001b[A\n",
      "  2%|▎         | 2/80 [00:02<01:20,  1.03s/it]\u001b[A\n",
      "Exception in thread Thread-69:\n",
      "Traceback (most recent call last):\n",
      "  File \"/Users/filipmichalsky/anaconda/lib/python3.6/threading.py\", line 916, in _bootstrap_inner\n",
      "    self.run()\n",
      "  File \"/Users/filipmichalsky/anaconda/lib/python3.6/site-packages/tqdm/_tqdm.py\", line 144, in run\n",
      "    for instance in self.tqdm_cls._instances:\n",
      "  File \"/Users/filipmichalsky/anaconda/lib/python3.6/_weakrefset.py\", line 60, in __iter__\n",
      "    for itemref in self.data:\n",
      "RuntimeError: Set changed size during iteration\n",
      "\n",
      " 34%|███▍      | 27/80 [00:25<00:49,  1.07it/s]"
     ]
    },
    {
     "name": "stdout",
     "output_type": "stream",
     "text": [
      "K-Means converged after 27 iterations.\n"
     ]
    },
    {
     "name": "stderr",
     "output_type": "stream",
     "text": [
      "\n"
     ]
    }
   ],
   "source": [
    "# K-means from couple random restarts and \n",
    "# various values of K.\n",
    "\n",
    "results = pd.DataFrame(columns=['random_restart', 'K', 'inertia'])\n",
    "\n",
    "for K in [6, 9, 12]:\n",
    "    for random_seed in [69,96]:\n",
    "        \n",
    "    \n",
    "        k_means = KMeans(K, rand_seed=random_seed)\n",
    "        k_means.fit(images)\n",
    "        \n",
    "        distortion = k_means.get_distortion()\n",
    "        \n",
    "        # create additional df row\n",
    "        new_row = {'random_restart': random_seed, 'K': K, 'distortion': distortion}\n",
    "        \n",
    "        results = results.append(new_row, ignore_index=True)\n",
    "        \n",
    "        results.loc[:,'random_restart'] =results.loc[:,'random_restart'].astype(int)\n",
    "        \n",
    "        # Save centroids' images.\n",
    "\n",
    "        # Credit goes to Nate Stein for helping me a lot with the plotting code!\n",
    "\n",
    "        # File path designates: (i) K used to fit model (ii) random seed.\n",
    "        fig_title = 'Centroids | K = {}, rand = {}'.format(K, random_seed)\n",
    "        centr_save_path = 'plots/centr_{}_{}.png'.format(K, random_seed)\n",
    "        plot_titles = ['Cluster {}'.format(i + 1) for i in range(K)]\n",
    "\n",
    "        centroid_imgs = [img.reshape(28, -1) for img in k_means.centroids]\n",
    "        k_means.get_plots(centroid_imgs, ncols=3, show_img=False,\n",
    "                     save_path=centr_save_path, fig_title=fig_title,\n",
    "                     plt_titles=plot_titles)\n",
    "\n",
    "        # Create representative image subplot titles.\n",
    "        repr_imgs = k_means.get_representative_images(3, as_dict=False)\n",
    "        repr_imgs = [img.reshape(28, -1) for img in repr_imgs]\n",
    "        plot_titles = []\n",
    "        for k in range(K):\n",
    "            for _ in range(3):\n",
    "                plot_titles.append('Cluster {}'.format(k + 1))\n",
    "\n",
    "        # Save representative images.\n",
    "        repr_path = 'plots/repr_{}_{}.png'.format(K, random_seed)\n",
    "        fig_title = 'Representative Images | K = {}, rand = {}'.format(K, random_seed)\n",
    "        k_means.get_plots(repr_imgs, ncols=3, show_img=False,\n",
    "                     save_path=repr_path, fig_title=fig_title,\n",
    "                     plt_titles=plot_titles)\n",
    "        "
   ]
  },
  {
   "cell_type": "code",
   "execution_count": 188,
   "metadata": {},
   "outputs": [
    {
     "data": {
      "text/html": [
       "<div>\n",
       "<style scoped>\n",
       "    .dataframe tbody tr th:only-of-type {\n",
       "        vertical-align: middle;\n",
       "    }\n",
       "\n",
       "    .dataframe tbody tr th {\n",
       "        vertical-align: top;\n",
       "    }\n",
       "\n",
       "    .dataframe thead th {\n",
       "        text-align: right;\n",
       "    }\n",
       "</style>\n",
       "<table border=\"1\" class=\"dataframe\">\n",
       "  <thead>\n",
       "    <tr style=\"text-align: right;\">\n",
       "      <th></th>\n",
       "      <th>random_restart</th>\n",
       "      <th>K</th>\n",
       "      <th>distortion</th>\n",
       "    </tr>\n",
       "  </thead>\n",
       "  <tbody>\n",
       "    <tr>\n",
       "      <th>0</th>\n",
       "      <td>69</td>\n",
       "      <td>6.0</td>\n",
       "      <td>1.632367e+10</td>\n",
       "    </tr>\n",
       "    <tr>\n",
       "      <th>1</th>\n",
       "      <td>96</td>\n",
       "      <td>6.0</td>\n",
       "      <td>1.649894e+10</td>\n",
       "    </tr>\n",
       "    <tr>\n",
       "      <th>2</th>\n",
       "      <td>69</td>\n",
       "      <td>9.0</td>\n",
       "      <td>1.541966e+10</td>\n",
       "    </tr>\n",
       "    <tr>\n",
       "      <th>3</th>\n",
       "      <td>96</td>\n",
       "      <td>9.0</td>\n",
       "      <td>1.539072e+10</td>\n",
       "    </tr>\n",
       "    <tr>\n",
       "      <th>4</th>\n",
       "      <td>69</td>\n",
       "      <td>12.0</td>\n",
       "      <td>1.472880e+10</td>\n",
       "    </tr>\n",
       "    <tr>\n",
       "      <th>5</th>\n",
       "      <td>96</td>\n",
       "      <td>12.0</td>\n",
       "      <td>1.464839e+10</td>\n",
       "    </tr>\n",
       "  </tbody>\n",
       "</table>\n",
       "</div>"
      ],
      "text/plain": [
       "   random_restart     K    distortion\n",
       "0              69   6.0  1.632367e+10\n",
       "1              96   6.0  1.649894e+10\n",
       "2              69   9.0  1.541966e+10\n",
       "3              96   9.0  1.539072e+10\n",
       "4              69  12.0  1.472880e+10\n",
       "5              96  12.0  1.464839e+10"
      ]
     },
     "execution_count": 188,
     "metadata": {},
     "output_type": "execute_result"
    }
   ],
   "source": [
    "results.drop(['inertia'],axis=1)\n",
    "\n",
    "\n",
    "\n"
   ]
  },
  {
   "cell_type": "code",
   "execution_count": 183,
   "metadata": {},
   "outputs": [
    {
     "name": "stderr",
     "output_type": "stream",
     "text": [
      "\n",
      "  0%|          | 0/80 [00:00<?, ?it/s]\u001b[A\n",
      "Exception in thread Thread-66:\n",
      "Traceback (most recent call last):\n",
      "  File \"/Users/filipmichalsky/anaconda/lib/python3.6/threading.py\", line 916, in _bootstrap_inner\n",
      "    self.run()\n",
      "  File \"/Users/filipmichalsky/anaconda/lib/python3.6/site-packages/tqdm/_tqdm.py\", line 144, in run\n",
      "    for instance in self.tqdm_cls._instances:\n",
      "  File \"/Users/filipmichalsky/anaconda/lib/python3.6/_weakrefset.py\", line 60, in __iter__\n",
      "    for itemref in self.data:\n",
      "RuntimeError: Set changed size during iteration\n",
      "\n",
      " 50%|█████     | 40/80 [00:27<00:27,  1.46it/s]"
     ]
    },
    {
     "name": "stdout",
     "output_type": "stream",
     "text": [
      "K-Means converged after 40 iterations.\n"
     ]
    },
    {
     "name": "stderr",
     "output_type": "stream",
     "text": [
      "\n"
     ]
    },
    {
     "name": "stdout",
     "output_type": "stream",
     "text": [
      "Inertia % difference between my KMeans and sklearn implementation: -0.20%\n"
     ]
    }
   ],
   "source": [
    "# Compare distortion results to sklearn implementation.\n",
    "\n",
    "K = 10\n",
    "filip_km = KMeans(K, rand_seed=1)\n",
    "filip_km.fit(images)\n",
    "out_the_box = cluster.KMeans(K, random_state=1)\n",
    "out_the_box.fit(images)\n",
    "\n",
    "print('The distortion difference from the sklearn implementation: '\n",
    "     '{:.2%}'.format(out_the_box.inertia_/filip_km.get_distortion()-1))"
   ]
  },
  {
   "cell_type": "code",
   "execution_count": 130,
   "metadata": {},
   "outputs": [
    {
     "data": {
      "image/png": "[encoded data removed]",
      "text/plain": [
       "<Figure size 432x288 with 1 Axes>"
      ]
     },
     "metadata": {},
     "output_type": "display_data"
    }
   ],
   "source": [
    "plt.plot(filip_km.get_distortion(),color='orange')\n",
    "plt.xlabel('Epoch')\n",
    "plt.ylabel('Distortion')\n",
    "\n",
    "plt.show()"
   ]
  },
  {
   "cell_type": "code",
   "execution_count": null,
   "metadata": {},
   "outputs": [],
   "source": []
  }
 ],
 "metadata": {
  "kernelspec": {
   "display_name": "Python 3",
   "language": "python",
   "name": "python3"
  },
  "language_info": {
   "codemirror_mode": {
    "name": "ipython",
    "version": 3
   },
   "file_extension": ".py",
   "mimetype": "text/x-python",
   "name": "python",
   "nbconvert_exporter": "python",
   "pygments_lexer": "ipython3",
   "version": "3.6.4"
  }
 },
 "nbformat": 4,
 "nbformat_minor": 2
}
